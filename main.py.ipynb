{
 "cells": [
  {
   "cell_type": "code",
   "execution_count": 1,
   "metadata": {
    "collapsed": true
   },
   "outputs": [],
   "source": [
    "import requests"
   ]
  },
  {
   "cell_type": "code",
   "execution_count": 16,
   "metadata": {
    "collapsed": true
   },
   "outputs": [],
   "source": [
    "r = requests.get('https://bittrex.com/api/v1.1/public/getmarkethistory?market=BTC-XRP')"
   ]
  },
  {
   "cell_type": "code",
   "execution_count": 17,
   "metadata": {
    "scrolled": false
   },
   "outputs": [
    {
     "name": "stdout",
     "output_type": "stream",
     "text": [
      "BUY, 4.4e-05, 100.0\n",
      "BUY, 4.379e-05, 728.03061797\n",
      "SELL, 4.379e-05, 5694.7932955\n",
      "SELL, 4.382e-05, 397.99997951\n",
      "SELL, 4.405e-05, 23.82563684\n",
      "BUY, 4.409e-05, 49.7731912\n",
      "SELL, 4.379e-05, 3.631e-05\n",
      "SELL, 4.38e-05, 1568.33098973\n",
      "SELL, 4.381e-05, 279.95050388\n",
      "SELL, 4.381e-05, 207.3542462\n",
      "SELL, 4.382e-05, 397.99997951\n",
      "SELL, 4.399e-05, 6044.683923\n",
      "SELL, 4.4e-05, 129.23872137\n",
      "BUY, 4.409e-05, 1081.85124663\n",
      "BUY, 4.409e-05, 13134.38488044\n",
      "BUY, 4.408e-05, 119.8459549\n",
      "BUY, 4.402e-05, 9582.40093435\n",
      "BUY, 4.402e-05, 11850.37902001\n",
      "SELL, 4.399e-05, 47.1197988\n",
      "SELL, 4.399e-05, 3107.58336344\n",
      "BUY, 4.402e-05, 42.63229557\n",
      "SELL, 4.399e-05, 200.0\n",
      "BUY, 4.402e-05, 126.41494436\n",
      "BUY, 4.402e-05, 226.19047619\n",
      "SELL, 4.399e-05, 11563.1317\n",
      "BUY, 4.402e-05, 4133.23538156\n",
      "SELL, 4.399e-05, 130.44839326\n",
      "SELL, 4.4e-05, 1011.48154943\n",
      "SELL, 4.402e-05, 4532.03089505\n",
      "SELL, 4.402e-05, 442.30080908\n",
      "SELL, 4.402e-05, 2260.62550318\n",
      "SELL, 4.403e-05, 1382.31298092\n",
      "SELL, 4.404e-05, 6858.45099966\n",
      "SELL, 4.407e-05, 11.52869111\n",
      "SELL, 4.407e-05, 219.04509\n",
      "BUY, 4.409e-05, 364.02222923\n",
      "BUY, 4.409e-05, 679.65023847\n",
      "BUY, 4.41e-05, 332.33808804\n",
      "BUY, 4.41e-05, 226.94935543\n",
      "BUY, 4.41e-05, 131.90519205\n",
      "BUY, 4.41e-05, 12.6031164\n",
      "BUY, 4.41e-05, 12641.30910075\n",
      "BUY, 4.41e-05, 1445.16039267\n",
      "BUY, 4.409e-05, 3553.875\n",
      "BUY, 4.409e-05, 30.51807506\n",
      "BUY, 4.409e-05, 900.0\n",
      "BUY, 4.409e-05, 138.25358321\n",
      "BUY, 4.402e-05, 161.26673925\n",
      "SELL, 4.399e-05, 7625.43967874\n",
      "SELL, 4.4e-05, 65.99319882\n",
      "SELL, 4.4e-05, 893.61860714\n",
      "SELL, 4.402e-05, 48.49023796\n",
      "SELL, 4.402e-05, 118.94026859\n",
      "SELL, 4.402e-05, 2811.21730875\n",
      "SELL, 4.402e-05, 10000.0\n",
      "SELL, 4.402e-05, 10965.69904576\n",
      "SELL, 4.403e-05, 131.83243641\n",
      "SELL, 4.406e-05, 226.4986376\n",
      "BUY, 4.409e-05, 360.039972\n",
      "SELL, 4.402e-05, 22.61917347\n",
      "SELL, 4.402e-05, 1140.71503574\n",
      "SELL, 4.402e-05, 22.61917347\n",
      "SELL, 4.402e-05, 1402.27963381\n",
      "SELL, 4.402e-05, 151.41341513\n",
      "SELL, 4.402e-05, 22.61917347\n",
      "BUY, 4.409e-05, 205.35984145\n",
      "BUY, 4.403e-05, 88.55033955\n",
      "SELL, 4.402e-05, 9.04333144\n",
      "SELL, 4.402e-05, 140.95666856\n",
      "SELL, 4.402e-05, 50.0\n",
      "BUY, 4.409e-05, 1055.33582008\n",
      "BUY, 4.408e-05, 66.38323353\n",
      "BUY, 4.408e-05, 200.0\n",
      "BUY, 4.408e-05, 100.7103097\n",
      "BUY, 4.408e-05, 346.30394056\n",
      "BUY, 4.407e-05, 50.0\n",
      "BUY, 4.407e-05, 8866.29743863\n",
      "BUY, 4.405e-05, 41.64177813\n",
      "BUY, 4.403e-05, 27.36426695\n",
      "BUY, 4.402e-05, 15.85522409\n",
      "BUY, 4.402e-05, 352.68410175\n",
      "BUY, 4.403e-05, 191.4568499\n",
      "SELL, 4.4e-05, 480.67704286\n",
      "SELL, 4.4e-05, 3191.84830199\n",
      "SELL, 4.402e-05, 391.60005648\n",
      "SELL, 4.402e-05, 908.87012337\n",
      "BUY, 4.403e-05, 475.06781399\n",
      "SELL, 4.402e-05, 27.86526634\n",
      "BUY, 4.403e-05, 306.11106916\n",
      "SELL, 4.402e-05, 368.53932584\n",
      "BUY, 4.402e-05, 8694.72528445\n",
      "BUY, 4.402e-05, 318.37603736\n",
      "SELL, 4.4e-05, 2808.15169801\n",
      "SELL, 4.4e-05, 776.65168636\n",
      "SELL, 4.4e-05, 1656.25355504\n",
      "SELL, 4.4e-05, 4758.94306059\n",
      "BUY, 4.402e-05, 400.0\n",
      "SELL, 4.402e-05, 47.70513516\n",
      "SELL, 4.402e-05, 25.71490401\n",
      "SELL, 4.402e-05, 2088.61503902\n"
     ]
    }
   ],
   "source": [
    "history = r.json()\n",
    "\n",
    "for event in history['result'][0:1000]:\n",
    "    print(event['OrderType']+\", \"+str(event['Price'])+\", \"+str(event['Quantity']))"
   ]
  },
  {
   "cell_type": "code",
   "execution_count": 10,
   "metadata": {},
   "outputs": [
    {
     "data": {
      "text/plain": [
       "0.5000002"
      ]
     },
     "execution_count": 10,
     "metadata": {},
     "output_type": "execute_result"
    }
   ],
   "source": [
    "history['result'][0]['Price']+0.5"
   ]
  },
  {
   "cell_type": "code",
   "execution_count": 21,
   "metadata": {},
   "outputs": [
    {
     "data": {
      "text/plain": [
       "100"
      ]
     },
     "execution_count": 21,
     "metadata": {},
     "output_type": "execute_result"
    }
   ],
   "source": [
    "len(history['result'])"
   ]
  },
  {
   "cell_type": "code",
   "execution_count": null,
   "metadata": {
    "collapsed": true
   },
   "outputs": [],
   "source": []
  }
 ],
 "metadata": {
  "kernelspec": {
   "display_name": "Python 3",
   "language": "python",
   "name": "python3"
  },
  "language_info": {
   "codemirror_mode": {
    "name": "ipython",
    "version": 3
   },
   "file_extension": ".py",
   "mimetype": "text/x-python",
   "name": "python",
   "nbconvert_exporter": "python",
   "pygments_lexer": "ipython3",
   "version": "3.6.3"
  }
 },
 "nbformat": 4,
 "nbformat_minor": 2
}
